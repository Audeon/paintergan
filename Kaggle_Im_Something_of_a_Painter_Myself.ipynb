{
  "nbformat": 4,
  "nbformat_minor": 0,
  "metadata": {
    "colab": {
      "name": "Kaggle - Im Something of a Painter Myself",
      "provenance": [],
      "collapsed_sections": [
        "4G-CRp2uGTAf",
        "1-4jYx9EOP5R",
        "hMn73s8aPFUL"
      ],
      "mount_file_id": "1KgSQLz0-fiwO3gByoYtXozj3JUe-b0ha",
      "authorship_tag": "ABX9TyOG1Q0xC1s0FUUTH2KgrvIP",
      "include_colab_link": true
    },
    "kernelspec": {
      "name": "python3",
      "display_name": "Python 3"
    },
    "language_info": {
      "name": "python"
    },
    "accelerator": "TPU"
  },
  "cells": [
    {
      "cell_type": "markdown",
      "metadata": {
        "id": "view-in-github",
        "colab_type": "text"
      },
      "source": [
        "<a href=\"https://colab.research.google.com/github/Audeon/paintergan/blob/main/Kaggle_Im_Something_of_a_Painter_Myself.ipynb\" target=\"_parent\"><img src=\"https://colab.research.google.com/assets/colab-badge.svg\" alt=\"Open In Colab\"/></a>"
      ]
    },
    {
      "cell_type": "markdown",
      "source": [
        "# Kaggle Competition Work - Im Something of a Painter Myself\n",
        "\n",
        "**Team**: Acolytes of the Basilisk\n",
        "\n",
        "**Team Members**: \n",
        "*   the protagonist\n",
        "*   Michael Whitford\n",
        "\n",
        "**The Challenge**:\n",
        "\n",
        "A GAN consists of at least two neural networks: a generator model and a discriminator model. The generator is a neural network that creates the images. For our competition, you should generate images in the style of Monet. This generator is trained using a discriminator.\n",
        "\n",
        "The two models will work against each other, with the generator trying to trick the discriminator, and the discriminator trying to accurately classify the real vs. generated images.\n",
        "\n",
        "Your task is to build a GAN that generates 7,000 to 10,000 Monet-style images. "
      ],
      "metadata": {
        "id": "Rs7vKM2NG-Ws"
      }
    },
    {
      "cell_type": "markdown",
      "source": [
        "# Pip Installs and Data Download\n",
        "Install all the pip requirements, and next work on Data downloading options. "
      ],
      "metadata": {
        "id": "4G-CRp2uGTAf"
      }
    },
    {
      "cell_type": "code",
      "source": [
        "!pip install -qq kaggle "
      ],
      "metadata": {
        "id": "LC74MCQTZcjM"
      },
      "execution_count": 1,
      "outputs": []
    },
    {
      "cell_type": "code",
      "source": [
        "!pip install -qq tensorflow_addons"
      ],
      "metadata": {
        "colab": {
          "base_uri": "https://localhost:8080/"
        },
        "id": "JS46JrOpYWRq",
        "outputId": "eb80d6de-771f-4fd1-f5a6-e36535320173"
      },
      "execution_count": 2,
      "outputs": [
        {
          "output_type": "stream",
          "name": "stdout",
          "text": [
            "\u001b[?25l\r\u001b[K     |▎                               | 10 kB 14.0 MB/s eta 0:00:01\r\u001b[K     |▋                               | 20 kB 10.5 MB/s eta 0:00:01\r\u001b[K     |▉                               | 30 kB 8.9 MB/s eta 0:00:01\r\u001b[K     |█▏                              | 40 kB 7.5 MB/s eta 0:00:01\r\u001b[K     |█▌                              | 51 kB 4.6 MB/s eta 0:00:01\r\u001b[K     |█▊                              | 61 kB 5.2 MB/s eta 0:00:01\r\u001b[K     |██                              | 71 kB 5.6 MB/s eta 0:00:01\r\u001b[K     |██▍                             | 81 kB 5.3 MB/s eta 0:00:01\r\u001b[K     |██▋                             | 92 kB 5.9 MB/s eta 0:00:01\r\u001b[K     |███                             | 102 kB 5.5 MB/s eta 0:00:01\r\u001b[K     |███▏                            | 112 kB 5.5 MB/s eta 0:00:01\r\u001b[K     |███▌                            | 122 kB 5.5 MB/s eta 0:00:01\r\u001b[K     |███▉                            | 133 kB 5.5 MB/s eta 0:00:01\r\u001b[K     |████                            | 143 kB 5.5 MB/s eta 0:00:01\r\u001b[K     |████▍                           | 153 kB 5.5 MB/s eta 0:00:01\r\u001b[K     |████▊                           | 163 kB 5.5 MB/s eta 0:00:01\r\u001b[K     |█████                           | 174 kB 5.5 MB/s eta 0:00:01\r\u001b[K     |█████▎                          | 184 kB 5.5 MB/s eta 0:00:01\r\u001b[K     |█████▌                          | 194 kB 5.5 MB/s eta 0:00:01\r\u001b[K     |█████▉                          | 204 kB 5.5 MB/s eta 0:00:01\r\u001b[K     |██████▏                         | 215 kB 5.5 MB/s eta 0:00:01\r\u001b[K     |██████▍                         | 225 kB 5.5 MB/s eta 0:00:01\r\u001b[K     |██████▊                         | 235 kB 5.5 MB/s eta 0:00:01\r\u001b[K     |███████                         | 245 kB 5.5 MB/s eta 0:00:01\r\u001b[K     |███████▎                        | 256 kB 5.5 MB/s eta 0:00:01\r\u001b[K     |███████▋                        | 266 kB 5.5 MB/s eta 0:00:01\r\u001b[K     |███████▉                        | 276 kB 5.5 MB/s eta 0:00:01\r\u001b[K     |████████▏                       | 286 kB 5.5 MB/s eta 0:00:01\r\u001b[K     |████████▌                       | 296 kB 5.5 MB/s eta 0:00:01\r\u001b[K     |████████▊                       | 307 kB 5.5 MB/s eta 0:00:01\r\u001b[K     |█████████                       | 317 kB 5.5 MB/s eta 0:00:01\r\u001b[K     |█████████▍                      | 327 kB 5.5 MB/s eta 0:00:01\r\u001b[K     |█████████▋                      | 337 kB 5.5 MB/s eta 0:00:01\r\u001b[K     |██████████                      | 348 kB 5.5 MB/s eta 0:00:01\r\u001b[K     |██████████▏                     | 358 kB 5.5 MB/s eta 0:00:01\r\u001b[K     |██████████▌                     | 368 kB 5.5 MB/s eta 0:00:01\r\u001b[K     |██████████▉                     | 378 kB 5.5 MB/s eta 0:00:01\r\u001b[K     |███████████                     | 389 kB 5.5 MB/s eta 0:00:01\r\u001b[K     |███████████▍                    | 399 kB 5.5 MB/s eta 0:00:01\r\u001b[K     |███████████▊                    | 409 kB 5.5 MB/s eta 0:00:01\r\u001b[K     |████████████                    | 419 kB 5.5 MB/s eta 0:00:01\r\u001b[K     |████████████▎                   | 430 kB 5.5 MB/s eta 0:00:01\r\u001b[K     |████████████▌                   | 440 kB 5.5 MB/s eta 0:00:01\r\u001b[K     |████████████▉                   | 450 kB 5.5 MB/s eta 0:00:01\r\u001b[K     |█████████████▏                  | 460 kB 5.5 MB/s eta 0:00:01\r\u001b[K     |█████████████▍                  | 471 kB 5.5 MB/s eta 0:00:01\r\u001b[K     |█████████████▊                  | 481 kB 5.5 MB/s eta 0:00:01\r\u001b[K     |██████████████                  | 491 kB 5.5 MB/s eta 0:00:01\r\u001b[K     |██████████████▎                 | 501 kB 5.5 MB/s eta 0:00:01\r\u001b[K     |██████████████▋                 | 512 kB 5.5 MB/s eta 0:00:01\r\u001b[K     |██████████████▉                 | 522 kB 5.5 MB/s eta 0:00:01\r\u001b[K     |███████████████▏                | 532 kB 5.5 MB/s eta 0:00:01\r\u001b[K     |███████████████▌                | 542 kB 5.5 MB/s eta 0:00:01\r\u001b[K     |███████████████▊                | 552 kB 5.5 MB/s eta 0:00:01\r\u001b[K     |████████████████                | 563 kB 5.5 MB/s eta 0:00:01\r\u001b[K     |████████████████▍               | 573 kB 5.5 MB/s eta 0:00:01\r\u001b[K     |████████████████▋               | 583 kB 5.5 MB/s eta 0:00:01\r\u001b[K     |█████████████████               | 593 kB 5.5 MB/s eta 0:00:01\r\u001b[K     |█████████████████▏              | 604 kB 5.5 MB/s eta 0:00:01\r\u001b[K     |█████████████████▌              | 614 kB 5.5 MB/s eta 0:00:01\r\u001b[K     |█████████████████▉              | 624 kB 5.5 MB/s eta 0:00:01\r\u001b[K     |██████████████████              | 634 kB 5.5 MB/s eta 0:00:01\r\u001b[K     |██████████████████▍             | 645 kB 5.5 MB/s eta 0:00:01\r\u001b[K     |██████████████████▊             | 655 kB 5.5 MB/s eta 0:00:01\r\u001b[K     |███████████████████             | 665 kB 5.5 MB/s eta 0:00:01\r\u001b[K     |███████████████████▎            | 675 kB 5.5 MB/s eta 0:00:01\r\u001b[K     |███████████████████▌            | 686 kB 5.5 MB/s eta 0:00:01\r\u001b[K     |███████████████████▉            | 696 kB 5.5 MB/s eta 0:00:01\r\u001b[K     |████████████████████▏           | 706 kB 5.5 MB/s eta 0:00:01\r\u001b[K     |████████████████████▍           | 716 kB 5.5 MB/s eta 0:00:01\r\u001b[K     |████████████████████▊           | 727 kB 5.5 MB/s eta 0:00:01\r\u001b[K     |█████████████████████           | 737 kB 5.5 MB/s eta 0:00:01\r\u001b[K     |█████████████████████▎          | 747 kB 5.5 MB/s eta 0:00:01\r\u001b[K     |█████████████████████▋          | 757 kB 5.5 MB/s eta 0:00:01\r\u001b[K     |█████████████████████▉          | 768 kB 5.5 MB/s eta 0:00:01\r\u001b[K     |██████████████████████▏         | 778 kB 5.5 MB/s eta 0:00:01\r\u001b[K     |██████████████████████▌         | 788 kB 5.5 MB/s eta 0:00:01\r\u001b[K     |██████████████████████▊         | 798 kB 5.5 MB/s eta 0:00:01\r\u001b[K     |███████████████████████         | 808 kB 5.5 MB/s eta 0:00:01\r\u001b[K     |███████████████████████▍        | 819 kB 5.5 MB/s eta 0:00:01\r\u001b[K     |███████████████████████▋        | 829 kB 5.5 MB/s eta 0:00:01\r\u001b[K     |████████████████████████        | 839 kB 5.5 MB/s eta 0:00:01\r\u001b[K     |████████████████████████▏       | 849 kB 5.5 MB/s eta 0:00:01\r\u001b[K     |████████████████████████▌       | 860 kB 5.5 MB/s eta 0:00:01\r\u001b[K     |████████████████████████▉       | 870 kB 5.5 MB/s eta 0:00:01\r\u001b[K     |█████████████████████████       | 880 kB 5.5 MB/s eta 0:00:01\r\u001b[K     |█████████████████████████▍      | 890 kB 5.5 MB/s eta 0:00:01\r\u001b[K     |█████████████████████████▊      | 901 kB 5.5 MB/s eta 0:00:01\r\u001b[K     |██████████████████████████      | 911 kB 5.5 MB/s eta 0:00:01\r\u001b[K     |██████████████████████████▎     | 921 kB 5.5 MB/s eta 0:00:01\r\u001b[K     |██████████████████████████▌     | 931 kB 5.5 MB/s eta 0:00:01\r\u001b[K     |██████████████████████████▉     | 942 kB 5.5 MB/s eta 0:00:01\r\u001b[K     |███████████████████████████▏    | 952 kB 5.5 MB/s eta 0:00:01\r\u001b[K     |███████████████████████████▍    | 962 kB 5.5 MB/s eta 0:00:01\r\u001b[K     |███████████████████████████▊    | 972 kB 5.5 MB/s eta 0:00:01\r\u001b[K     |████████████████████████████    | 983 kB 5.5 MB/s eta 0:00:01\r\u001b[K     |████████████████████████████▎   | 993 kB 5.5 MB/s eta 0:00:01\r\u001b[K     |████████████████████████████▋   | 1.0 MB 5.5 MB/s eta 0:00:01\r\u001b[K     |████████████████████████████▉   | 1.0 MB 5.5 MB/s eta 0:00:01\r\u001b[K     |█████████████████████████████▏  | 1.0 MB 5.5 MB/s eta 0:00:01\r\u001b[K     |█████████████████████████████▌  | 1.0 MB 5.5 MB/s eta 0:00:01\r\u001b[K     |█████████████████████████████▊  | 1.0 MB 5.5 MB/s eta 0:00:01\r\u001b[K     |██████████████████████████████  | 1.1 MB 5.5 MB/s eta 0:00:01\r\u001b[K     |██████████████████████████████▍ | 1.1 MB 5.5 MB/s eta 0:00:01\r\u001b[K     |██████████████████████████████▋ | 1.1 MB 5.5 MB/s eta 0:00:01\r\u001b[K     |███████████████████████████████ | 1.1 MB 5.5 MB/s eta 0:00:01\r\u001b[K     |███████████████████████████████▏| 1.1 MB 5.5 MB/s eta 0:00:01\r\u001b[K     |███████████████████████████████▌| 1.1 MB 5.5 MB/s eta 0:00:01\r\u001b[K     |███████████████████████████████▉| 1.1 MB 5.5 MB/s eta 0:00:01\r\u001b[K     |████████████████████████████████| 1.1 MB 5.5 MB/s \n",
            "\u001b[?25h"
          ]
        }
      ]
    },
    {
      "cell_type": "markdown",
      "source": [
        "# Kaggle API Downloads\n",
        "This part allows you to copy your kaggle config files from google drive and use it to download the kaggle competition data."
      ],
      "metadata": {
        "id": "1-4jYx9EOP5R"
      }
    },
    {
      "cell_type": "code",
      "source": [
        "%env KAGGLE_CONFIG_DIR = /content/"
      ],
      "metadata": {
        "colab": {
          "base_uri": "https://localhost:8080/"
        },
        "id": "JJnbiCAhEmrd",
        "outputId": "cb9532aa-c79c-42a0-c4f4-a36f077c8747"
      },
      "execution_count": 4,
      "outputs": [
        {
          "output_type": "stream",
          "name": "stdout",
          "text": [
            "env: KAGGLE_CONFIG_DIR=/content/\n"
          ]
        }
      ]
    },
    {
      "cell_type": "code",
      "source": [
        "! kaggle competitions download -c gan-getting-started -p /content/data/"
      ],
      "metadata": {
        "colab": {
          "base_uri": "https://localhost:8080/"
        },
        "id": "P3x_1d_1ZmiY",
        "outputId": "55931482-cf5e-41f9-e1b3-0a5a6c9ab770"
      },
      "execution_count": 20,
      "outputs": [
        {
          "output_type": "stream",
          "name": "stdout",
          "text": [
            "Warning: Looks like you're using an outdated API Version, please consider updating (server 1.5.12 / client 1.5.4)\n",
            "User cancelled operation\n"
          ]
        }
      ]
    },
    {
      "cell_type": "code",
      "source": [
        "!cp /content/drive/MyDrive/\"Colab Notebooks\"/config/kaggle.json /content/"
      ],
      "metadata": {
        "id": "g9NiS7kR-pur"
      },
      "execution_count": 1,
      "outputs": []
    },
    {
      "cell_type": "markdown",
      "source": [
        "# Copy Dataset from Google Drive\n",
        "This will copy the zip file from the google drive and unzip it into the useful dir. "
      ],
      "metadata": {
        "id": "FXW33sgLOiTp"
      }
    },
    {
      "cell_type": "code",
      "source": [
        "!mkdir /content/data/"
      ],
      "metadata": {
        "id": "FX8J1K9lYPOc"
      },
      "execution_count": 5,
      "outputs": []
    },
    {
      "cell_type": "code",
      "source": [
        "!cp /content/drive/MyDrive/\"Colab Notebooks\"/data/gan-getting-started.zip /content/data/"
      ],
      "metadata": {
        "id": "YGECIUbqMXtr"
      },
      "execution_count": 7,
      "outputs": []
    },
    {
      "cell_type": "code",
      "source": [
        "!unzip /content/data/gan-getting-started.zip -d /content/data/"
      ],
      "metadata": {
        "id": "moTae9VeMxQo"
      },
      "execution_count": null,
      "outputs": []
    },
    {
      "cell_type": "markdown",
      "source": [
        "# Python Package Imports and TPU Setup."
      ],
      "metadata": {
        "id": "hMn73s8aPFUL"
      }
    },
    {
      "cell_type": "code",
      "source": [
        "import tensorflow as tf\n",
        "from tensorflow import keras\n",
        "from tensorflow.keras import layers\n",
        "import tensorflow_addons as tfa\n",
        "import matplotlib.pyplot as plt\n",
        "import numpy as np"
      ],
      "metadata": {
        "id": "5BBfBhD8YSfc"
      },
      "execution_count": 9,
      "outputs": []
    },
    {
      "cell_type": "markdown",
      "source": [
        "This section will check and see if we have TPUs that we can do the processing on. TPUs are faster than GPUs and MANY times faster than CPUs. Luckily colab has TPUs."
      ],
      "metadata": {
        "id": "94IEU2TLIlri"
      }
    },
    {
      "cell_type": "code",
      "source": [
        "try:\n",
        "    tpu = tf.distribute.cluster_resolver.TPUClusterResolver()\n",
        "    print('Device:', tpu.master())\n",
        "    tf.config.experimental_connect_to_cluster(tpu)\n",
        "    tf.tpu.experimental.initialize_tpu_system(tpu)\n",
        "    strategy = tf.distribute.experimental.TPUStrategy(tpu)\n",
        "except:\n",
        "    strategy = tf.distribute.get_strategy()\n",
        "print('Number of replicas:', strategy.num_replicas_in_sync)\n",
        "\n",
        "AUTOTUNE = tf.data.experimental.AUTOTUNE"
      ],
      "metadata": {
        "id": "bP3vGVpCHyUq"
      },
      "execution_count": null,
      "outputs": []
    },
    {
      "cell_type": "code",
      "execution_count": 11,
      "metadata": {
        "colab": {
          "base_uri": "https://localhost:8080/",
          "height": 36
        },
        "id": "KXGrqGv8YD-t",
        "outputId": "98a2ba73-0146-4165-ff59-279080f40006"
      },
      "outputs": [
        {
          "output_type": "execute_result",
          "data": {
            "application/vnd.google.colaboratory.intrinsic+json": {
              "type": "string"
            },
            "text/plain": [
              "'2.8.0'"
            ]
          },
          "metadata": {},
          "execution_count": 11
        }
      ],
      "source": [
        "tf.__version__"
      ]
    },
    {
      "cell_type": "markdown",
      "source": [
        "# Load the TFRecord"
      ],
      "metadata": {
        "id": "AVqBWhhrI4DK"
      }
    },
    {
      "cell_type": "code",
      "source": [
        "data_path = \"/content/data/\" "
      ],
      "metadata": {
        "id": "RgQRxSlsI8F-"
      },
      "execution_count": 12,
      "outputs": []
    },
    {
      "cell_type": "code",
      "source": [
        "monet_filenames = tf.io.gfile.glob(str(data_path + 'monet_tfrec/*.tfrec'))\n",
        "photo_filenames = tf.io.gfile.glob(str(data_path + 'photo_tfrec/*.tfrec'))"
      ],
      "metadata": {
        "id": "tgB2YzmyJLZV"
      },
      "execution_count": 13,
      "outputs": []
    },
    {
      "cell_type": "code",
      "source": [
        "print(f\"Monet TFRecord Files: {len(monet_filenames)}\")\n",
        "print(f\"Photo TFRecord Files: {len(photo_filenames)}\")"
      ],
      "metadata": {
        "colab": {
          "base_uri": "https://localhost:8080/"
        },
        "id": "meokMJD7Jajh",
        "outputId": "03221f72-9fa1-4ed1-a253-54e7f47e7ae2"
      },
      "execution_count": 14,
      "outputs": [
        {
          "output_type": "stream",
          "name": "stdout",
          "text": [
            "Monet TFRecord Files: 5\n",
            "Photo TFRecord Files: 20\n"
          ]
        }
      ]
    },
    {
      "cell_type": "markdown",
      "source": [
        "# Read and Decode Image Data from TFRecord\n",
        "Next we will read the TFRecord and export the image data, using the decode image function we will also define here. "
      ],
      "metadata": {
        "id": "TkC-kfwKTt-g"
      }
    },
    {
      "cell_type": "code",
      "source": [
        "image_size = [256,256] #@param"
      ],
      "metadata": {
        "id": "2vpqZbaHUeCo"
      },
      "execution_count": 15,
      "outputs": []
    },
    {
      "cell_type": "markdown",
      "source": [
        "This decodes the image data from the TFRecord, casts the data to a new tensor."
      ],
      "metadata": {
        "id": "HZ7pkMrBUvoy"
      }
    },
    {
      "cell_type": "code",
      "source": [
        "def decode_image(image):\n",
        "  image = tf.image.decode_jpeg(image, channels=3)\n",
        "  image = (tf.cast(image, tf.float32)/ 127.5) - 1\n",
        "  image = tf.reshape(image, [*image_size, 3])\n",
        "  return image"
      ],
      "metadata": {
        "id": "c7JOEnevUFb_"
      },
      "execution_count": 16,
      "outputs": []
    },
    {
      "cell_type": "code",
      "source": [
        "def read_tfrecord(example):\n",
        "  tfrecord_format = {\n",
        "      \"image_name\": tf.io.FixedLenFeature([], tf.string),\n",
        "      \"image\": tf.io.FixedLenFeature([], tf.string),\n",
        "      \"target\": tf.io.FixedLenFeature([], tf.string)\n",
        "  }\n",
        "\n",
        "  example = tf.io.parse_single_example(example, tfrecord_format)\n",
        "  image = decode_image(example['image'])\n",
        "  return image\n"
      ],
      "metadata": {
        "id": "Hy1tDGfEVMAs"
      },
      "execution_count": 17,
      "outputs": []
    },
    {
      "cell_type": "markdown",
      "source": [
        "Define the function to extract the image from the files"
      ],
      "metadata": {
        "id": "d36oswXZV6xv"
      }
    },
    {
      "cell_type": "code",
      "source": [
        "def load_dataset(filenames, labeled=True, ordered=False):\n",
        "  dataset = tf.data.TFRecordDataset(filenames)\n",
        "  dataset = dataset.map(read_tfrecord, num_parallel_calls=AUTOTUNE)\n",
        "  return dataset"
      ],
      "metadata": {
        "id": "EqoeLg1FV9S4"
      },
      "execution_count": 18,
      "outputs": []
    },
    {
      "cell_type": "markdown",
      "source": [
        "Now we can start to load in the datasets."
      ],
      "metadata": {
        "id": "pUCtBZBMWOCc"
      }
    },
    {
      "cell_type": "code",
      "source": [
        "monet_ds = load_dataset(monet_filenames, labeled=True).batch(1)\n",
        "photo_ds = load_dataset(photo_filenames, labeled=True).batch(1)"
      ],
      "metadata": {
        "id": "kAUi-gy6WRgD"
      },
      "execution_count": 19,
      "outputs": []
    },
    {
      "cell_type": "code",
      "source": [
        "plt.subplot(121)\n",
        "plt.imshow(photo_ds)"
      ],
      "metadata": {
        "colab": {
          "base_uri": "https://localhost:8080/",
          "height": 443
        },
        "id": "fx4AN59tXuzL",
        "outputId": "cb7fb8d3-438d-4a5c-c653-21d983e04f1f"
      },
      "execution_count": 23,
      "outputs": [
        {
          "output_type": "error",
          "ename": "TypeError",
          "evalue": "ignored",
          "traceback": [
            "\u001b[0;31m---------------------------------------------------------------------------\u001b[0m",
            "\u001b[0;31mTypeError\u001b[0m                                 Traceback (most recent call last)",
            "\u001b[0;32m<ipython-input-23-a4573d6e6438>\u001b[0m in \u001b[0;36m<module>\u001b[0;34m()\u001b[0m\n\u001b[1;32m      1\u001b[0m \u001b[0mplt\u001b[0m\u001b[0;34m.\u001b[0m\u001b[0msubplot\u001b[0m\u001b[0;34m(\u001b[0m\u001b[0;36m121\u001b[0m\u001b[0;34m)\u001b[0m\u001b[0;34m\u001b[0m\u001b[0;34m\u001b[0m\u001b[0m\n\u001b[0;32m----> 2\u001b[0;31m \u001b[0mplt\u001b[0m\u001b[0;34m.\u001b[0m\u001b[0mimshow\u001b[0m\u001b[0;34m(\u001b[0m\u001b[0mphoto_ds\u001b[0m\u001b[0;34m[\u001b[0m\u001b[0;36m1\u001b[0m\u001b[0;34m]\u001b[0m\u001b[0;34m)\u001b[0m\u001b[0;34m\u001b[0m\u001b[0;34m\u001b[0m\u001b[0m\n\u001b[0m",
            "\u001b[0;31mTypeError\u001b[0m: 'BatchDataset' object is not subscriptable"
          ]
        },
        {
          "output_type": "display_data",
          "data": {
            "image/png": "[encoded data removed]",
            "text/plain": [
              "<Figure size 432x288 with 1 Axes>"
            ]
          },
          "metadata": {
            "needs_background": "light"
          }
        }
      ]
    }
  ]
}